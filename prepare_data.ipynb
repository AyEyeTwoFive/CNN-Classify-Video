{
 "cells": [
  {
   "cell_type": "markdown",
   "metadata": {},
   "source": [
    "# Prepare data by extracting frames from videos"
   ]
  },
  {
   "cell_type": "code",
   "execution_count": 54,
   "metadata": {},
   "outputs": [
    {
     "data": {
      "text/plain": [
       "(['class1', 'class2'], 2)"
      ]
     },
     "execution_count": 54,
     "metadata": {},
     "output_type": "execute_result"
    }
   ],
   "source": [
    "import os\n",
    "\n",
    "path2data = \"./data\"\n",
    "sub_folder = \"ECHOS\"\n",
    "sub_folder_jpg = \"JPG\"\n",
    "path2aCatgs = os.path.join(path2data, sub_folder)\n",
    "\n",
    "listOfCategories = os.listdir(path2aCatgs)\n",
    "listOfCategories, len(listOfCategories)"
   ]
  },
  {
   "cell_type": "code",
   "execution_count": 55,
   "metadata": {
    "scrolled": true
   },
   "outputs": [
    {
     "name": "stdout",
     "output_type": "stream",
     "text": [
      "category: class1\n",
      "number of sub-folders: 29731\n",
      "--------------------------------------------------\n",
      "category: class2\n",
      "number of sub-folders: 19870\n",
      "--------------------------------------------------\n"
     ]
    }
   ],
   "source": [
    "for cat in listOfCategories:\n",
    "    print(\"category:\", cat)\n",
    "    path2acat = os.path.join(path2aCatgs, cat)\n",
    "    listOfSubs = os.listdir(path2acat)\n",
    "    print(\"number of sub-folders:\", len(listOfSubs))\n",
    "    print(\"-\"*50)"
   ]
  },
  {
   "cell_type": "code",
   "execution_count": 56,
   "metadata": {},
   "outputs": [],
   "source": [
    "import myutils"
   ]
  },
  {
   "cell_type": "code",
   "execution_count": 63,
   "metadata": {},
   "outputs": [
    {
     "name": "stdout",
     "output_type": "stream",
     "text": [
      "Collecting package metadata (current_repodata.json): ...working... done\n",
      "Solving environment: ...working... done\n",
      "\n",
      "## Package Plan ##\n",
      "\n",
      "  environment location: C:\\Users\\islam\\anaconda3\n",
      "\n",
      "  added / updated specs:\n",
      "    - progressbar\n",
      "\n",
      "\n",
      "The following packages will be downloaded:\n",
      "\n",
      "    package                    |            build\n",
      "    ---------------------------|-----------------\n",
      "    progressbar-2.5            |             py_0          12 KB  conda-forge\n",
      "    ------------------------------------------------------------\n",
      "                                           Total:          12 KB\n",
      "\n",
      "The following NEW packages will be INSTALLED:\n",
      "\n",
      "  progressbar        conda-forge/noarch::progressbar-2.5-py_0 None\n",
      "\n",
      "\n",
      "\n",
      "Downloading and Extracting Packages\n",
      "\n",
      "progressbar-2.5      | 12 KB     |            |   0% \n",
      "progressbar-2.5      | 12 KB     | ########## | 100% \n",
      "progressbar-2.5      | 12 KB     | ########## | 100% \n",
      "Preparing transaction: ...working... done\n",
      "Verifying transaction: ...working... done\n",
      "Executing transaction: ...working... done\n",
      "Retrieving notices: ...working... done\n"
     ]
    },
    {
     "name": "stderr",
     "output_type": "stream",
     "text": [
      "\n",
      "\n",
      "==> WARNING: A newer version of conda exists. <==\n",
      "  current version: 22.9.0\n",
      "  latest version: 22.11.0\n",
      "\n",
      "Please update conda by running\n",
      "\n",
      "    $ conda update -n base -c defaults conda\n",
      "\n",
      "\n"
     ]
    }
   ],
   "source": [
    "import sys\n",
    "!conda install --yes --prefix {sys.prefix} progressbar"
   ]
  },
  {
   "cell_type": "code",
   "execution_count": 67,
   "metadata": {},
   "outputs": [
    {
     "name": "stdout",
     "output_type": "stream",
     "text": [
      "\n"
     ]
    }
   ],
   "source": [
    "import progressbar\n",
    "extension = \".avi\"\n",
    "n_frames = 64\n",
    "i = 0\n",
    "for root, dirs, files in os.walk(path2aCatgs, topdown=False):\n",
    "    #bar = progressbar.ProgressBar(maxval=len(files)).start()\n",
    "    for name in files:\n",
    "        #print(\"Processing file \",i,\" of \",len(files),end='\\r')\n",
    "        #i+=1\n",
    "        #bar.update(i)\n",
    "        if extension not in name:\n",
    "            continue\n",
    "        path2vid = os.path.join(root, name)\n",
    "        frames, vlen = myutils.get_frames(path2vid, n_frames= n_frames)\n",
    "        path2store = path2vid.replace(sub_folder, sub_folder_jpg)\n",
    "        path2store = path2store.replace(extension, \"\")\n",
    "        #print(path2store)\n",
    "        os.makedirs(path2store, exist_ok= True)\n",
    "        myutils.store_frames(frames, path2store)\n",
    "    #print(\"-\"*50)   \n",
    "print()"
   ]
  }
 ],
 "metadata": {
  "kernelspec": {
   "display_name": "Python 3",
   "language": "python",
   "name": "python3"
  },
  "language_info": {
   "codemirror_mode": {
    "name": "ipython",
    "version": 3
   },
   "file_extension": ".py",
   "mimetype": "text/x-python",
   "name": "python",
   "nbconvert_exporter": "python",
   "pygments_lexer": "ipython3",
   "version": "3.8.8"
  }
 },
 "nbformat": 4,
 "nbformat_minor": 2
}
