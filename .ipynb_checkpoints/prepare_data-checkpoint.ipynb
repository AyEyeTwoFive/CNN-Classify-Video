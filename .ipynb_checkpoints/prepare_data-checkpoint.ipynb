{
 "cells": [
  {
   "cell_type": "code",
   "execution_count": 12,
   "metadata": {},
   "outputs": [
    {
     "data": {
      "text/plain": [
       "(['$RECYCLE.BIN',\n",
       "  '.fseventsd',\n",
       "  '.Spotlight-V100',\n",
       "  '._Cristiana Exit Files',\n",
       "  '._Cristiana Exit Files.zip',\n",
       "  '._Experiment-06-Stitching-01.czi',\n",
       "  '._G13_CR2_REPSOX_ECM_HTS.xlsx',\n",
       "  '._meeting.pptx',\n",
       "  '._Research backup 5\\uf02210\\uf02221',\n",
       "  'class1',\n",
       "  'class2',\n",
       "  'System Volume Information'],\n",
       " 12)"
      ]
     },
     "execution_count": 12,
     "metadata": {},
     "output_type": "execute_result"
    }
   ],
   "source": [
    "import os\n",
    "\n",
    "path2data = \"./data\"\n",
    "sub_folder = \"ECHOS\"\n",
    "sub_folder_jpg = \"JPG\"\n",
    "path2aCatgs = os.path.join(path2data, sub_folder)\n",
    "\n",
    "listOfCategories = os.listdir(path2aCatgs)\n",
    "listOfCategories, len(listOfCategories)"
   ]
  },
  {
   "cell_type": "code",
   "execution_count": 9,
   "metadata": {
    "scrolled": true
   },
   "outputs": [
    {
     "name": "stdout",
     "output_type": "stream",
     "text": [
      "category: $RECYCLE.BIN\n",
      "number of sub-folders: 1\n",
      "--------------------------------------------------\n",
      "category: .fseventsd\n",
      "number of sub-folders: 23\n",
      "--------------------------------------------------\n",
      "category: .Spotlight-V100\n",
      "number of sub-folders: 2\n",
      "--------------------------------------------------\n",
      "category: ._Cristiana Exit Files\n"
     ]
    },
    {
     "ename": "NotADirectoryError",
     "evalue": "[WinError 267] The directory name is invalid: 'data\\\\ECHOS\\\\._Cristiana Exit Files'",
     "output_type": "error",
     "traceback": [
      "\u001b[1;31m---------------------------------------------------------------------------\u001b[0m",
      "\u001b[1;31mNotADirectoryError\u001b[0m                        Traceback (most recent call last)",
      "\u001b[1;32m<ipython-input-9-3c88cc4185cc>\u001b[0m in \u001b[0;36m<module>\u001b[1;34m\u001b[0m\n\u001b[0;32m      2\u001b[0m     \u001b[0mprint\u001b[0m\u001b[1;33m(\u001b[0m\u001b[1;34m\"category:\"\u001b[0m\u001b[1;33m,\u001b[0m \u001b[0mcat\u001b[0m\u001b[1;33m)\u001b[0m\u001b[1;33m\u001b[0m\u001b[1;33m\u001b[0m\u001b[0m\n\u001b[0;32m      3\u001b[0m     \u001b[0mpath2acat\u001b[0m \u001b[1;33m=\u001b[0m \u001b[0mos\u001b[0m\u001b[1;33m.\u001b[0m\u001b[0mpath\u001b[0m\u001b[1;33m.\u001b[0m\u001b[0mjoin\u001b[0m\u001b[1;33m(\u001b[0m\u001b[0mpath2aCatgs\u001b[0m\u001b[1;33m,\u001b[0m \u001b[0mcat\u001b[0m\u001b[1;33m)\u001b[0m\u001b[1;33m\u001b[0m\u001b[1;33m\u001b[0m\u001b[0m\n\u001b[1;32m----> 4\u001b[1;33m     \u001b[0mlistOfSubs\u001b[0m \u001b[1;33m=\u001b[0m \u001b[0mos\u001b[0m\u001b[1;33m.\u001b[0m\u001b[0mlistdir\u001b[0m\u001b[1;33m(\u001b[0m\u001b[0mpath2acat\u001b[0m\u001b[1;33m)\u001b[0m\u001b[1;33m\u001b[0m\u001b[1;33m\u001b[0m\u001b[0m\n\u001b[0m\u001b[0;32m      5\u001b[0m     \u001b[0mprint\u001b[0m\u001b[1;33m(\u001b[0m\u001b[1;34m\"number of sub-folders:\"\u001b[0m\u001b[1;33m,\u001b[0m \u001b[0mlen\u001b[0m\u001b[1;33m(\u001b[0m\u001b[0mlistOfSubs\u001b[0m\u001b[1;33m)\u001b[0m\u001b[1;33m)\u001b[0m\u001b[1;33m\u001b[0m\u001b[1;33m\u001b[0m\u001b[0m\n\u001b[0;32m      6\u001b[0m     \u001b[0mprint\u001b[0m\u001b[1;33m(\u001b[0m\u001b[1;34m\"-\"\u001b[0m\u001b[1;33m*\u001b[0m\u001b[1;36m50\u001b[0m\u001b[1;33m)\u001b[0m\u001b[1;33m\u001b[0m\u001b[1;33m\u001b[0m\u001b[0m\n",
      "\u001b[1;31mNotADirectoryError\u001b[0m: [WinError 267] The directory name is invalid: 'data\\\\ECHOS\\\\._Cristiana Exit Files'"
     ]
    }
   ],
   "source": [
    "for cat in listOfCategories:\n",
    "    print(\"category:\", cat)\n",
    "    path2acat = os.path.join(path2aCatgs, cat)\n",
    "    listOfSubs = os.listdir(path2acat)\n",
    "    print(\"number of sub-folders:\", len(listOfSubs))\n",
    "    print(\"-\"*50)"
   ]
  },
  {
   "cell_type": "code",
   "execution_count": 10,
   "metadata": {},
   "outputs": [],
   "source": [
    "import myutils"
   ]
  },
  {
   "cell_type": "code",
   "execution_count": null,
   "metadata": {},
   "outputs": [],
   "source": [
    "extension = \".avi\"\n",
    "n_frames = 16\n",
    "for root, dirs, files in os.walk(path2aCatgs, topdown=False):\n",
    "    for name in files:\n",
    "        if extension not in name:\n",
    "            continue\n",
    "        path2vid = os.path.join(root, name)\n",
    "        frames, vlen = myutils.get_frames(path2vid, n_frames= n_frames)\n",
    "        path2store = path2vid.replace(sub_folder, sub_folder_jpg)\n",
    "        path2store = path2store.replace(extension, \"\")\n",
    "        print(path2store)\n",
    "        os.makedirs(path2store, exist_ok= True)\n",
    "        myutils.store_frames(frames, path2store)\n",
    "    print(\"-\"*50)    "
   ]
  }
 ],
 "metadata": {
  "kernelspec": {
   "display_name": "Python 3",
   "language": "python",
   "name": "python3"
  },
  "language_info": {
   "codemirror_mode": {
    "name": "ipython",
    "version": 3
   },
   "file_extension": ".py",
   "mimetype": "text/x-python",
   "name": "python",
   "nbconvert_exporter": "python",
   "pygments_lexer": "ipython3",
   "version": "3.8.8"
  }
 },
 "nbformat": 4,
 "nbformat_minor": 2
}
